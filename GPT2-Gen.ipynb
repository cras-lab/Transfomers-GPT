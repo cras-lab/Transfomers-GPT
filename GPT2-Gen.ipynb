{
  "nbformat": 4,
  "nbformat_minor": 0,
  "metadata": {
    "colab": {
      "provenance": [],
      "authorship_tag": "ABX9TyN9tCqfVM9z2uNa3FmaocGc",
      "include_colab_link": true
    },
    "kernelspec": {
      "name": "python3",
      "display_name": "Python 3"
    },
    "language_info": {
      "name": "python"
    }
  },
  "cells": [
    {
      "cell_type": "markdown",
      "metadata": {
        "id": "view-in-github",
        "colab_type": "text"
      },
      "source": [
        "<a href=\"https://colab.research.google.com/github/cras-lab/Transfomers-GPT/blob/main/GPT2-Gen.ipynb\" target=\"_parent\"><img src=\"https://colab.research.google.com/assets/colab-badge.svg\" alt=\"Open In Colab\"/></a>"
      ]
    },
    {
      "cell_type": "markdown",
      "source": [
        "Hugging Face 라이브러리를 이용하여, GPT2로 텍스트를 생성하는 간단한 예시\n",
        "먼저 트랜스포머 라이브러리를 설치한다."
      ],
      "metadata": {
        "id": "JjtTGCvzLrsk"
      }
    },
    {
      "cell_type": "code",
      "execution_count": 8,
      "metadata": {
        "id": "c3hNrfiDH0et"
      },
      "outputs": [],
      "source": [
        "\n",
        "pip install transformers -q"
      ]
    },
    {
      "cell_type": "markdown",
      "source": [
        "GPT2를 기본 모델로 임포트 한다(경고 메시지는 무시하면 된다.)."
      ],
      "metadata": {
        "id": "4BF7JAmUL_yj"
      }
    },
    {
      "cell_type": "code",
      "source": [
        "from transformers import pipeline \n",
        "generator = pipeline(task=\"text-generation\")"
      ],
      "metadata": {
        "colab": {
          "base_uri": "https://localhost:8080/"
        },
        "id": "XjymtIcKIDoH",
        "outputId": "e39d2c34-e1f6-438d-a1b8-ef83f4aa7eaa"
      },
      "execution_count": 10,
      "outputs": [
        {
          "output_type": "stream",
          "name": "stderr",
          "text": [
            "No model was supplied, defaulted to gpt2 and revision 6c0e608 (https://huggingface.co/gpt2).\n",
            "Using a pipeline without specifying a model name and revision in production is not recommended.\n"
          ]
        }
      ]
    },
    {
      "cell_type": "markdown",
      "source": [
        "어떤 문장이든 전달하면, 그 문장에 이어 GPT2가 연속해서 일부 문장을 더 만들어 낸다. 이 문장은 실행할 때마다 다른 문장이 생성된다."
      ],
      "metadata": {
        "id": "ddgxIimDMavd"
      }
    },
    {
      "cell_type": "code",
      "source": [
        "generator(\"Once there lived a pretty girl in Seoul, South Korea\")"
      ],
      "metadata": {
        "colab": {
          "base_uri": "https://localhost:8080/"
        },
        "id": "ipPY7R9ZIHrA",
        "outputId": "ae3379fe-69de-4596-f43e-dca3b4f33246"
      },
      "execution_count": 14,
      "outputs": [
        {
          "output_type": "stream",
          "name": "stderr",
          "text": [
            "Setting `pad_token_id` to `eos_token_id`:50256 for open-end generation.\n"
          ]
        },
        {
          "output_type": "execute_result",
          "data": {
            "text/plain": [
              "[{'generated_text': \"Once there lived a pretty girl in Seoul, South Korea, I knew nothing about her life.\\n\\nOn September 21, 1992, on the first day of kindergarten, the young girl's kindergarten teacher picked her up and took her to the back of\"}]"
            ]
          },
          "metadata": {},
          "execution_count": 14
        }
      ]
    }
  ]
}